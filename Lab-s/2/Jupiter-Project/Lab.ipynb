{
 "cells": [
  {
   "cell_type": "markdown",
   "metadata": {},
   "source": [
    "## Imports"
   ]
  },
  {
   "cell_type": "code",
   "execution_count": null,
   "metadata": {},
   "outputs": [],
   "source": [
    "from machine import Machine "
   ]
  },
  {
   "cell_type": "markdown",
   "metadata": {},
   "source": [
    "# Task 1"
   ]
  },
  {
   "cell_type": "code",
   "execution_count": null,
   "metadata": {},
   "outputs": [],
   "source": [
    "m1 = Machine()\n",
    "m1.addRule((m1.startState, m1.startState + '0'))\n",
    "m1.addRule((m1.startState, m1.startState + '1'))\n",
    "m1.addRule((m1.startState, 'P0'))\n",
    "m1.addRule((m1.startState, 'P1'))\n",
    "m1.addRule(('P', 'N.'))\n",
    "m1.addRule(('N', 'N1'))\n",
    "m1.addRule(('N', 'N0'))\n",
    "m1.addRule(('N', '1'))\n",
    "m1.addRule(('N', '0'))\n",
    "m1.autoSetRulesAndStatesByTransitions()"
   ]
  },
  {
   "cell_type": "code",
   "execution_count": null,
   "metadata": {},
   "outputs": [],
   "source": [
    "m1.printRules()\n",
    "m1.printLanguage()\n",
    "m1.printTable()\n",
    "m1.showStatesDiagram()"
   ]
  },
  {
   "cell_type": "code",
   "execution_count": null,
   "metadata": {},
   "outputs": [],
   "source": [
    "separator = '-' * 50\n",
    "\n",
    "print(separator)\n",
    "m1.findChain('11.010') # True\n",
    "print(separator)\n",
    "m1.findChain('0.1')    # True\n",
    "print(separator)\n",
    "m1.findChain('01.')  # False\n",
    "print(separator)\n",
    "m1.findChain('100')  # False\n",
    "print(separator)"
   ]
  },
  {
   "cell_type": "markdown",
   "metadata": {},
   "source": [
    "# Task 2"
   ]
  },
  {
   "attachments": {
    "image.png": {
     "image/png": "[encoded data removed]"
    }
   },
   "cell_type": "markdown",
   "metadata": {},
   "source": [
    "![image.png](attachment:image.png)"
   ]
  },
  {
   "cell_type": "code",
   "execution_count": null,
   "metadata": {},
   "outputs": [],
   "source": [
    "m2 = Machine()\n",
    "m2.addRule((m2.startState, 'A|'))\n",
    "m2.addRule(('A', 'A0'))\n",
    "m2.addRule(('A', 'A1'))\n",
    "m2.addRule(('A', 'B0'))\n",
    "m2.addRule(('A', 'B1'))\n",
    "m2.addRule(('A', '0'))\n",
    "m2.addRule(('A', '1'))\n",
    "m2.addRule(('B', 'A+'))\n",
    "m2.addRule(('B', 'A-'))\n",
    "m2.autoSetRulesAndStatesByTransitions()"
   ]
  },
  {
   "cell_type": "code",
   "execution_count": null,
   "metadata": {},
   "outputs": [],
   "source": [
    "# m2.test()\n",
    "m2.printRules()\n",
    "m2.printLanguage()\n",
    "# print(machine1.getStatesTransitions())\n",
    "m2.printTable()\n",
    "# m2.showStatesDiagram()"
   ]
  },
  {
   "cell_type": "code",
   "execution_count": null,
   "metadata": {},
   "outputs": [],
   "source": [
    "separator = '-' * 50\n",
    "\n",
    "print(separator)\n",
    "m2.findChain('1011|')\n",
    "print(separator)\n",
    "m2.findChain('10+011|')\n",
    "print(separator)\n",
    "m2.findChain('0-101+1|')\n",
    "print(separator)"
   ]
  }
 ],
 "metadata": {
  "kernelspec": {
   "display_name": "Python 3",
   "language": "python",
   "name": "python3"
  },
  "language_info": {
   "codemirror_mode": {
    "name": "ipython",
    "version": 3
   },
   "file_extension": ".py",
   "mimetype": "text/x-python",
   "name": "python",
   "nbconvert_exporter": "python",
   "pygments_lexer": "ipython3",
   "version": "3.11.1"
  }
 },
 "nbformat": 4,
 "nbformat_minor": 2
}
